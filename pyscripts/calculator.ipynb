{
 "cells": [
  {
   "cell_type": "code",
   "execution_count": 5,
   "metadata": {},
   "outputs": [],
   "source": [
    "import numpy as np"
   ]
  },
  {
   "cell_type": "code",
   "execution_count": 6,
   "metadata": {},
   "outputs": [],
   "source": [
    "mat = np.array([148138098.6,\t-1235867.417,\t-657451.5215,\t3809.987187,\t-92369.31638,\t-53303.64188,\t-1235867.417,\t28853450.98,\t9995983.33,\t-31230.91155,\t345.0733899,\t198.0367652,\t-657451.5214,\t9995983.33,\t5772494.039,\t-12431.85302,\t198.4805003,\t249.3238127,\t3809.987187,\t-31230.91155,\t-12431.85302,\t36.95279303,\t-1.783825401,\t-1.093807497,\t-92369.31638,\t345.0733899,\t198.4805003,\t-1.783825401,\t67.97295927,\t31.42935464,\t-53303.64188,\t198.0367652,\t249.3238127,\t-1.093807497,\t31.42935464,\t31.63693739])\n",
    "\n",
    "\n"
   ]
  },
  {
   "cell_type": "code",
   "execution_count": 7,
   "metadata": {},
   "outputs": [],
   "source": [
    "cov = mat.reshape(6,6)\n"
   ]
  },
  {
   "cell_type": "code",
   "execution_count": 8,
   "metadata": {},
   "outputs": [],
   "source": [
    "est = np.array([7006811.057,\t6605.872153,\t75507.53213,\t-81.28772863,\t660.5616575,\t7550.460039])\n",
    "truth = np.array([7006811.06,6605.872164,\t75507.53216,\t-81.28707688,\t660.5616609,\t7550.460048])\n"
   ]
  },
  {
   "cell_type": "code",
   "execution_count": 10,
   "metadata": {},
   "outputs": [
    {
     "name": "stdout",
     "output_type": "stream",
     "text": [
      "[-2.99999956e-03 -1.10000001e-05 -2.99999956e-05 -6.51750000e-04\n",
      " -3.39999997e-06 -9.00000032e-06]\n",
      "2.1385819687522253e-07\n"
     ]
    }
   ],
   "source": [
    "print(est-truth)\n",
    "\n",
    "print((est-truth).T @ np.linalg.inv(cov) @ (est-truth))"
   ]
  }
 ],
 "metadata": {
  "kernelspec": {
   "display_name": "odvenv",
   "language": "python",
   "name": "python3"
  },
  "language_info": {
   "codemirror_mode": {
    "name": "ipython",
    "version": 3
   },
   "file_extension": ".py",
   "mimetype": "text/x-python",
   "name": "python",
   "nbconvert_exporter": "python",
   "pygments_lexer": "ipython3",
   "version": "3.10.10"
  },
  "orig_nbformat": 4
 },
 "nbformat": 4,
 "nbformat_minor": 2
}
